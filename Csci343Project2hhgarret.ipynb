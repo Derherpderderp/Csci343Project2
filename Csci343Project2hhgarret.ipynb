{
 "cells": [
  {
   "cell_type": "code",
   "execution_count": 1,
   "id": "524f13cc",
   "metadata": {},
   "outputs": [],
   "source": [
    "import pandas as pd"
   ]
  },
  {
   "cell_type": "code",
   "execution_count": 32,
   "id": "dc1404df",
   "metadata": {},
   "outputs": [
    {
     "name": "stdout",
     "output_type": "stream",
     "text": [
      "  is_bankOwned=0 is_bankOwned=1 lotAreaUnits=Acres lotAreaUnits=sqft  \\\n",
      "0     continuous     continuous         continuous        continuous   \n",
      "1            NaN            NaN                NaN               NaN   \n",
      "2            1.0            0.0                1.0               0.0   \n",
      "3            1.0            0.0                1.0               0.0   \n",
      "4            1.0            0.0                1.0               0.0   \n",
      "\n",
      "             yearBuilt              zipcode            longitude  \\\n",
      "0           continuous           continuous           continuous   \n",
      "1                  NaN                  NaN                  NaN   \n",
      "2   0.2012201220122012   0.8484530676455165  0.45906282360983686   \n",
      "3  0.20072007200720074  0.16885159937073937   0.2561880084044061   \n",
      "4  0.19851985198519853  0.04299947561615102   0.2894029695145049   \n",
      "\n",
      "              latitude      pool=0      pool=1  ... event=Pending sale  \\\n",
      "0           continuous  continuous  continuous  ...         continuous   \n",
      "1                  NaN         NaN         NaN  ...                NaN   \n",
      "2  0.11650990188624602         0.0         1.0  ...                0.0   \n",
      "3   0.7240110271366813         1.0         0.0  ...                0.0   \n",
      "4   0.7433753032257614         1.0         0.0  ...                0.0   \n",
      "\n",
      "  event=Price change  event=Sold       price datePostedString     city  \\\n",
      "0         continuous  continuous  continuous           string   string   \n",
      "1                NaN         NaN       class             meta     meta   \n",
      "2                1.0         0.0    799000.0           7/8/20     Adel   \n",
      "3                0.0         0.0   1495000.0           7/8/21  Atlanta   \n",
      "4                0.0         0.0    370100.0           7/2/21   Tucker   \n",
      "\n",
      "             streetAddress                                        description  \\\n",
      "0                   string                                             string   \n",
      "1                     meta                                               meta   \n",
      "2      3203 Massee Post Rd  This beautiful home has all the amenities you ...   \n",
      "3  781 E Morningside Dr NE  \"An Outstanding Morningside Residence located ...   \n",
      "4       933 Coach House Dr  Welcome to this beautiful 4 bedroom 2.5 bathro...   \n",
      "\n",
      "            county   Gradient Boosting  \n",
      "0           string          continuous  \n",
      "1             meta                meta  \n",
      "2      Cook County   652214.8957835366  \n",
      "3    Fulton County   1394175.572581645  \n",
      "4  Gwinnett County  386793.62544296146  \n",
      "\n",
      "[5 rows x 42 columns]\n"
     ]
    }
   ],
   "source": [
    "ld = pd.read_csv(\"Csci343Project2Orangeout.tab\", sep='\\t')\n",
    "print(ld.head())"
   ]
  },
  {
   "cell_type": "code",
   "execution_count": 19,
   "id": "5bc96971",
   "metadata": {},
   "outputs": [
    {
     "data": {
      "text/html": [
       "<div>\n",
       "<style scoped>\n",
       "    .dataframe tbody tr th:only-of-type {\n",
       "        vertical-align: middle;\n",
       "    }\n",
       "\n",
       "    .dataframe tbody tr th {\n",
       "        vertical-align: top;\n",
       "    }\n",
       "\n",
       "    .dataframe thead th {\n",
       "        text-align: right;\n",
       "    }\n",
       "</style>\n",
       "<table border=\"1\" class=\"dataframe\">\n",
       "  <thead>\n",
       "    <tr style=\"text-align: right;\">\n",
       "      <th></th>\n",
       "      <th>price</th>\n",
       "      <th>Gradient Boosting</th>\n",
       "    </tr>\n",
       "  </thead>\n",
       "  <tbody>\n",
       "    <tr>\n",
       "      <th>2</th>\n",
       "      <td>799000.0</td>\n",
       "      <td>652214.8957835366</td>\n",
       "    </tr>\n",
       "    <tr>\n",
       "      <th>3</th>\n",
       "      <td>1495000.0</td>\n",
       "      <td>1394175.572581645</td>\n",
       "    </tr>\n",
       "    <tr>\n",
       "      <th>4</th>\n",
       "      <td>370100.0</td>\n",
       "      <td>386793.62544296146</td>\n",
       "    </tr>\n",
       "    <tr>\n",
       "      <th>5</th>\n",
       "      <td>169999.0</td>\n",
       "      <td>141345.00686444686</td>\n",
       "    </tr>\n",
       "    <tr>\n",
       "      <th>6</th>\n",
       "      <td>309990.0</td>\n",
       "      <td>345537.8618090215</td>\n",
       "    </tr>\n",
       "    <tr>\n",
       "      <th>...</th>\n",
       "      <td>...</td>\n",
       "      <td>...</td>\n",
       "    </tr>\n",
       "    <tr>\n",
       "      <th>8184</th>\n",
       "      <td>419900.0</td>\n",
       "      <td>508114.5115774345</td>\n",
       "    </tr>\n",
       "    <tr>\n",
       "      <th>8185</th>\n",
       "      <td>144900.0</td>\n",
       "      <td>183951.50483697906</td>\n",
       "    </tr>\n",
       "    <tr>\n",
       "      <th>8186</th>\n",
       "      <td>625000.0</td>\n",
       "      <td>621734.660291712</td>\n",
       "    </tr>\n",
       "    <tr>\n",
       "      <th>8187</th>\n",
       "      <td>199000.0</td>\n",
       "      <td>300552.9732748373</td>\n",
       "    </tr>\n",
       "    <tr>\n",
       "      <th>8188</th>\n",
       "      <td>129900.0</td>\n",
       "      <td>154477.98577509855</td>\n",
       "    </tr>\n",
       "  </tbody>\n",
       "</table>\n",
       "<p>8187 rows × 2 columns</p>\n",
       "</div>"
      ],
      "text/plain": [
       "          price   Gradient Boosting\n",
       "2      799000.0   652214.8957835366\n",
       "3     1495000.0   1394175.572581645\n",
       "4      370100.0  386793.62544296146\n",
       "5      169999.0  141345.00686444686\n",
       "6      309990.0   345537.8618090215\n",
       "...         ...                 ...\n",
       "8184   419900.0   508114.5115774345\n",
       "8185   144900.0  183951.50483697906\n",
       "8186   625000.0    621734.660291712\n",
       "8187   199000.0   300552.9732748373\n",
       "8188   129900.0  154477.98577509855\n",
       "\n",
       "[8187 rows x 2 columns]"
      ]
     },
     "execution_count": 19,
     "metadata": {},
     "output_type": "execute_result"
    }
   ],
   "source": [
    "ld[['price', 'Gradient Boosting']][2:]"
   ]
  },
  {
   "cell_type": "code",
   "execution_count": 58,
   "id": "96785310",
   "metadata": {},
   "outputs": [
    {
     "name": "stdout",
     "output_type": "stream",
     "text": [
      "5266 Hopewell Church Rd, delta: $-252835.04\n",
      "0 Jack St SE, delta: $-374435.47\n",
      "230 Booth Rd SW, delta: $-297459.67\n",
      "113 Samuel Lyon Way, delta: $-265571.59\n",
      "707 Prestige Point, delta: $-269398.29\n",
      "610 Hillpine Dr NE, delta: $-271166.79\n",
      "655 Coley Oaks Ct, delta: $-254759.69\n",
      "5109 Vernon Ridge Dr, delta: $-292012.11\n",
      "740 Moores Mill Rd NW, delta: $-292550.54\n",
      "255 Helens Manor Dr, delta: $-344532.35\n",
      "1219 Oakdale Rd NE, delta: $-373123.56\n",
      "257 Bonds Lake Rd, delta: $-293598.97\n",
      "53 Dupree Rd, delta: $-252518.06\n",
      "115 Newcastle Ct, delta: $-255714.61\n",
      "406 N Ash St, delta: $-275359.60\n",
      "876 Crest Valley Dr NW, delta: $-360650.50\n",
      "98 Westbourne Way, delta: $-280761.62\n",
      "3665 Chattahoochee Summit Dr SE, delta: $-256405.18\n",
      "18\n"
     ]
    }
   ],
   "source": [
    "num = 0\n",
    "for i in range(2, len(ld)):\n",
    "#    if(abs(float(ld.loc[i]['price']) - float(ld.loc[i]['Gradient Boosting'])) > 300000):\n",
    "    if(float(ld.loc[i]['price']) - float(ld.loc[i]['Gradient Boosting']) < -250000):    \n",
    "        print(ld.loc[i]['streetAddress'] + \", delta: $%.2f\" % (float(ld.loc[i]['price']) - float(ld.loc[i]['Gradient Boosting'])))\n",
    "#         print(ld.loc[i])\n",
    "#         print()\n",
    "        num = num + 1\n",
    "print(num)"
   ]
  },
  {
   "cell_type": "code",
   "execution_count": null,
   "id": "08da69b7",
   "metadata": {},
   "outputs": [],
   "source": []
  }
 ],
 "metadata": {
  "kernelspec": {
   "display_name": "Python 3 (ipykernel)",
   "language": "python",
   "name": "python3"
  },
  "language_info": {
   "codemirror_mode": {
    "name": "ipython",
    "version": 3
   },
   "file_extension": ".py",
   "mimetype": "text/x-python",
   "name": "python",
   "nbconvert_exporter": "python",
   "pygments_lexer": "ipython3",
   "version": "3.8.5"
  }
 },
 "nbformat": 4,
 "nbformat_minor": 5
}
